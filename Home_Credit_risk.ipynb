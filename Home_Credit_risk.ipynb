{
 "cells": [
  {
   "cell_type": "code",
   "execution_count": 1,
   "id": "a6a54bec",
   "metadata": {
    "_cell_guid": "b1076dfc-b9ad-4769-8c92-a6c4dae69d19",
    "_uuid": "8f2839f25d086af736a60e9eeb907d3b93b6e0e5",
    "execution": {
     "iopub.execute_input": "2024-04-17T00:43:59.905043Z",
     "iopub.status.busy": "2024-04-17T00:43:59.904258Z",
     "iopub.status.idle": "2024-04-17T00:44:00.889191Z",
     "shell.execute_reply": "2024-04-17T00:44:00.887953Z"
    },
    "papermill": {
     "duration": 0.996122,
     "end_time": "2024-04-17T00:44:00.892260",
     "exception": false,
     "start_time": "2024-04-17T00:43:59.896138",
     "status": "completed"
    },
    "tags": []
   },
   "outputs": [],
   "source": [
    "# This Python 3 environment comes with many helpful analytics libraries installed\n",
    "# It is defined by the kaggle/python Docker image: https://github.com/kaggle/docker-python\n",
    "# For example, here's several helpful packages to load\n",
    "\n",
    "import numpy as np # linear algebra\n",
    "import pandas as pd # data processing, CSV file I/O (e.g. pd.read_csv)\n",
    "\n",
    "# Input data files are available in the read-only \"../input/\" directory\n",
    "# For example, running this (by clicking run or pressing Shift+Enter) will list all files under the input directory\n",
    "\n",
    "import os\n",
    "# for dirname, _, filenames in os.walk('/kaggle/input'):\n",
    "#     for filename in filenames:\n",
    "#         print(os.path.join(dirname, filename))\n",
    "\n",
    "# You can write up to 20GB to the current directory (/kaggle/working/) that gets preserved as output when you create a version using \"Save & Run All\" \n",
    "# You can also write temporary files to /kaggle/temp/, but they won't be saved outside of the current session"
   ]
  },
  {
   "cell_type": "code",
   "execution_count": 2,
   "id": "c62226fe",
   "metadata": {
    "execution": {
     "iopub.execute_input": "2024-04-17T00:44:00.907157Z",
     "iopub.status.busy": "2024-04-17T00:44:00.906572Z",
     "iopub.status.idle": "2024-04-17T00:44:02.744218Z",
     "shell.execute_reply": "2024-04-17T00:44:02.736313Z"
    },
    "papermill": {
     "duration": 1.849166,
     "end_time": "2024-04-17T00:44:02.748363",
     "exception": false,
     "start_time": "2024-04-17T00:44:00.899197",
     "status": "completed"
    },
    "tags": []
   },
   "outputs": [],
   "source": [
    "import numpy as np\n",
    "import pandas as pd\n",
    "import seaborn as sns\n",
    "import matplotlib.pyplot as plt\n",
    "import polars as pl"
   ]
  },
  {
   "cell_type": "code",
   "execution_count": 3,
   "id": "054c65d3",
   "metadata": {
    "execution": {
     "iopub.execute_input": "2024-04-17T00:44:02.767850Z",
     "iopub.status.busy": "2024-04-17T00:44:02.767279Z",
     "iopub.status.idle": "2024-04-17T00:44:02.812363Z",
     "shell.execute_reply": "2024-04-17T00:44:02.811202Z"
    },
    "papermill": {
     "duration": 0.056174,
     "end_time": "2024-04-17T00:44:02.815345",
     "exception": false,
     "start_time": "2024-04-17T00:44:02.759171",
     "status": "completed"
    },
    "tags": []
   },
   "outputs": [
    {
     "data": {
      "text/html": [
       "<div>\n",
       "<style scoped>\n",
       "    .dataframe tbody tr th:only-of-type {\n",
       "        vertical-align: middle;\n",
       "    }\n",
       "\n",
       "    .dataframe tbody tr th {\n",
       "        vertical-align: top;\n",
       "    }\n",
       "\n",
       "    .dataframe thead th {\n",
       "        text-align: right;\n",
       "    }\n",
       "</style>\n",
       "<table border=\"1\" class=\"dataframe\">\n",
       "  <thead>\n",
       "    <tr style=\"text-align: right;\">\n",
       "      <th></th>\n",
       "      <th>Variable</th>\n",
       "      <th>Description</th>\n",
       "    </tr>\n",
       "  </thead>\n",
       "  <tbody>\n",
       "    <tr>\n",
       "      <th>0</th>\n",
       "      <td>actualdpd_943P</td>\n",
       "      <td>Days Past Due (DPD) of previous contract (actu...</td>\n",
       "    </tr>\n",
       "    <tr>\n",
       "      <th>1</th>\n",
       "      <td>actualdpdtolerance_344P</td>\n",
       "      <td>DPD of client with tolerance.</td>\n",
       "    </tr>\n",
       "    <tr>\n",
       "      <th>2</th>\n",
       "      <td>addres_district_368M</td>\n",
       "      <td>District of the person's address.</td>\n",
       "    </tr>\n",
       "    <tr>\n",
       "      <th>3</th>\n",
       "      <td>addres_role_871L</td>\n",
       "      <td>Role of person's address.</td>\n",
       "    </tr>\n",
       "    <tr>\n",
       "      <th>4</th>\n",
       "      <td>addres_zip_823M</td>\n",
       "      <td>Zip code of the address.</td>\n",
       "    </tr>\n",
       "    <tr>\n",
       "      <th>...</th>\n",
       "      <td>...</td>\n",
       "      <td>...</td>\n",
       "    </tr>\n",
       "    <tr>\n",
       "      <th>460</th>\n",
       "      <td>totinstallast1m_4525188A</td>\n",
       "      <td>Total amount of monthly instalments paid in th...</td>\n",
       "    </tr>\n",
       "    <tr>\n",
       "      <th>461</th>\n",
       "      <td>twobodfilling_608L</td>\n",
       "      <td>Type of application process.</td>\n",
       "    </tr>\n",
       "    <tr>\n",
       "      <th>462</th>\n",
       "      <td>type_25L</td>\n",
       "      <td>Contact type of a person.</td>\n",
       "    </tr>\n",
       "    <tr>\n",
       "      <th>463</th>\n",
       "      <td>typesuite_864L</td>\n",
       "      <td>Persons accompanying the client during the loa...</td>\n",
       "    </tr>\n",
       "    <tr>\n",
       "      <th>464</th>\n",
       "      <td>validfrom_1069D</td>\n",
       "      <td>Date since the client has an active campaign.</td>\n",
       "    </tr>\n",
       "  </tbody>\n",
       "</table>\n",
       "<p>465 rows × 2 columns</p>\n",
       "</div>"
      ],
      "text/plain": [
       "                     Variable  \\\n",
       "0              actualdpd_943P   \n",
       "1     actualdpdtolerance_344P   \n",
       "2        addres_district_368M   \n",
       "3            addres_role_871L   \n",
       "4             addres_zip_823M   \n",
       "..                        ...   \n",
       "460  totinstallast1m_4525188A   \n",
       "461        twobodfilling_608L   \n",
       "462                  type_25L   \n",
       "463            typesuite_864L   \n",
       "464           validfrom_1069D   \n",
       "\n",
       "                                           Description  \n",
       "0    Days Past Due (DPD) of previous contract (actu...  \n",
       "1                        DPD of client with tolerance.  \n",
       "2                    District of the person's address.  \n",
       "3                            Role of person's address.  \n",
       "4                             Zip code of the address.  \n",
       "..                                                 ...  \n",
       "460  Total amount of monthly instalments paid in th...  \n",
       "461                       Type of application process.  \n",
       "462                          Contact type of a person.  \n",
       "463  Persons accompanying the client during the loa...  \n",
       "464      Date since the client has an active campaign.  \n",
       "\n",
       "[465 rows x 2 columns]"
      ]
     },
     "execution_count": 3,
     "metadata": {},
     "output_type": "execute_result"
    }
   ],
   "source": [
    "lookup_table = pd.read_csv(\"/kaggle/input/home-credit-credit-risk-model-stability/feature_definitions.csv\")\n",
    "lookup_table"
   ]
  },
  {
   "cell_type": "code",
   "execution_count": 4,
   "id": "c8842d7b",
   "metadata": {
    "execution": {
     "iopub.execute_input": "2024-04-17T00:44:02.836103Z",
     "iopub.status.busy": "2024-04-17T00:44:02.835662Z",
     "iopub.status.idle": "2024-04-17T00:44:04.525249Z",
     "shell.execute_reply": "2024-04-17T00:44:04.523483Z"
    },
    "papermill": {
     "duration": 1.702448,
     "end_time": "2024-04-17T00:44:04.528598",
     "exception": false,
     "start_time": "2024-04-17T00:44:02.826150",
     "status": "completed"
    },
    "tags": []
   },
   "outputs": [
    {
     "data": {
      "text/html": [
       "<div>\n",
       "<style scoped>\n",
       "    .dataframe tbody tr th:only-of-type {\n",
       "        vertical-align: middle;\n",
       "    }\n",
       "\n",
       "    .dataframe tbody tr th {\n",
       "        vertical-align: top;\n",
       "    }\n",
       "\n",
       "    .dataframe thead th {\n",
       "        text-align: right;\n",
       "    }\n",
       "</style>\n",
       "<table border=\"1\" class=\"dataframe\">\n",
       "  <thead>\n",
       "    <tr style=\"text-align: right;\">\n",
       "      <th></th>\n",
       "      <th>case_id</th>\n",
       "      <th>date_decision</th>\n",
       "      <th>MONTH</th>\n",
       "      <th>WEEK_NUM</th>\n",
       "      <th>target</th>\n",
       "    </tr>\n",
       "  </thead>\n",
       "  <tbody>\n",
       "    <tr>\n",
       "      <th>0</th>\n",
       "      <td>0</td>\n",
       "      <td>2019-01-03</td>\n",
       "      <td>201901</td>\n",
       "      <td>0</td>\n",
       "      <td>0</td>\n",
       "    </tr>\n",
       "    <tr>\n",
       "      <th>1</th>\n",
       "      <td>1</td>\n",
       "      <td>2019-01-03</td>\n",
       "      <td>201901</td>\n",
       "      <td>0</td>\n",
       "      <td>0</td>\n",
       "    </tr>\n",
       "    <tr>\n",
       "      <th>2</th>\n",
       "      <td>2</td>\n",
       "      <td>2019-01-04</td>\n",
       "      <td>201901</td>\n",
       "      <td>0</td>\n",
       "      <td>0</td>\n",
       "    </tr>\n",
       "    <tr>\n",
       "      <th>3</th>\n",
       "      <td>3</td>\n",
       "      <td>2019-01-03</td>\n",
       "      <td>201901</td>\n",
       "      <td>0</td>\n",
       "      <td>0</td>\n",
       "    </tr>\n",
       "    <tr>\n",
       "      <th>4</th>\n",
       "      <td>4</td>\n",
       "      <td>2019-01-04</td>\n",
       "      <td>201901</td>\n",
       "      <td>0</td>\n",
       "      <td>1</td>\n",
       "    </tr>\n",
       "    <tr>\n",
       "      <th>...</th>\n",
       "      <td>...</td>\n",
       "      <td>...</td>\n",
       "      <td>...</td>\n",
       "      <td>...</td>\n",
       "      <td>...</td>\n",
       "    </tr>\n",
       "    <tr>\n",
       "      <th>1526654</th>\n",
       "      <td>2703450</td>\n",
       "      <td>2020-10-05</td>\n",
       "      <td>202010</td>\n",
       "      <td>91</td>\n",
       "      <td>0</td>\n",
       "    </tr>\n",
       "    <tr>\n",
       "      <th>1526655</th>\n",
       "      <td>2703451</td>\n",
       "      <td>2020-10-05</td>\n",
       "      <td>202010</td>\n",
       "      <td>91</td>\n",
       "      <td>0</td>\n",
       "    </tr>\n",
       "    <tr>\n",
       "      <th>1526656</th>\n",
       "      <td>2703452</td>\n",
       "      <td>2020-10-05</td>\n",
       "      <td>202010</td>\n",
       "      <td>91</td>\n",
       "      <td>0</td>\n",
       "    </tr>\n",
       "    <tr>\n",
       "      <th>1526657</th>\n",
       "      <td>2703453</td>\n",
       "      <td>2020-10-05</td>\n",
       "      <td>202010</td>\n",
       "      <td>91</td>\n",
       "      <td>0</td>\n",
       "    </tr>\n",
       "    <tr>\n",
       "      <th>1526658</th>\n",
       "      <td>2703454</td>\n",
       "      <td>2020-10-05</td>\n",
       "      <td>202010</td>\n",
       "      <td>91</td>\n",
       "      <td>0</td>\n",
       "    </tr>\n",
       "  </tbody>\n",
       "</table>\n",
       "<p>1526659 rows × 5 columns</p>\n",
       "</div>"
      ],
      "text/plain": [
       "         case_id date_decision   MONTH  WEEK_NUM  target\n",
       "0              0    2019-01-03  201901         0       0\n",
       "1              1    2019-01-03  201901         0       0\n",
       "2              2    2019-01-04  201901         0       0\n",
       "3              3    2019-01-03  201901         0       0\n",
       "4              4    2019-01-04  201901         0       1\n",
       "...          ...           ...     ...       ...     ...\n",
       "1526654  2703450    2020-10-05  202010        91       0\n",
       "1526655  2703451    2020-10-05  202010        91       0\n",
       "1526656  2703452    2020-10-05  202010        91       0\n",
       "1526657  2703453    2020-10-05  202010        91       0\n",
       "1526658  2703454    2020-10-05  202010        91       0\n",
       "\n",
       "[1526659 rows x 5 columns]"
      ]
     },
     "execution_count": 4,
     "metadata": {},
     "output_type": "execute_result"
    }
   ],
   "source": [
    "df = pd.read_csv(\"/kaggle/input/home-credit-credit-risk-model-stability/csv_files/train/train_base.csv\")\n",
    "df"
   ]
  },
  {
   "cell_type": "code",
   "execution_count": 5,
   "id": "fb343c12",
   "metadata": {
    "execution": {
     "iopub.execute_input": "2024-04-17T00:44:04.543755Z",
     "iopub.status.busy": "2024-04-17T00:44:04.543280Z",
     "iopub.status.idle": "2024-04-17T00:44:04.871674Z",
     "shell.execute_reply": "2024-04-17T00:44:04.870507Z"
    },
    "papermill": {
     "duration": 0.339218,
     "end_time": "2024-04-17T00:44:04.874364",
     "exception": false,
     "start_time": "2024-04-17T00:44:04.535146",
     "status": "completed"
    },
    "tags": []
   },
   "outputs": [
    {
     "data": {
      "text/html": [
       "<div>\n",
       "<style scoped>\n",
       "    .dataframe tbody tr th:only-of-type {\n",
       "        vertical-align: middle;\n",
       "    }\n",
       "\n",
       "    .dataframe tbody tr th {\n",
       "        vertical-align: top;\n",
       "    }\n",
       "\n",
       "    .dataframe thead th {\n",
       "        text-align: right;\n",
       "    }\n",
       "</style>\n",
       "<table border=\"1\" class=\"dataframe\">\n",
       "  <thead>\n",
       "    <tr style=\"text-align: right;\">\n",
       "      <th></th>\n",
       "      <th>case_id</th>\n",
       "      <th>date_decision</th>\n",
       "      <th>MONTH</th>\n",
       "      <th>WEEK_NUM</th>\n",
       "      <th>target</th>\n",
       "    </tr>\n",
       "  </thead>\n",
       "  <tbody>\n",
       "    <tr>\n",
       "      <th>0</th>\n",
       "      <td>0</td>\n",
       "      <td>2019-01-03</td>\n",
       "      <td>201901</td>\n",
       "      <td>0</td>\n",
       "      <td>0</td>\n",
       "    </tr>\n",
       "    <tr>\n",
       "      <th>1</th>\n",
       "      <td>1</td>\n",
       "      <td>2019-01-03</td>\n",
       "      <td>201901</td>\n",
       "      <td>0</td>\n",
       "      <td>0</td>\n",
       "    </tr>\n",
       "    <tr>\n",
       "      <th>2</th>\n",
       "      <td>2</td>\n",
       "      <td>2019-01-04</td>\n",
       "      <td>201901</td>\n",
       "      <td>0</td>\n",
       "      <td>0</td>\n",
       "    </tr>\n",
       "    <tr>\n",
       "      <th>3</th>\n",
       "      <td>3</td>\n",
       "      <td>2019-01-03</td>\n",
       "      <td>201901</td>\n",
       "      <td>0</td>\n",
       "      <td>0</td>\n",
       "    </tr>\n",
       "    <tr>\n",
       "      <th>4</th>\n",
       "      <td>4</td>\n",
       "      <td>2019-01-04</td>\n",
       "      <td>201901</td>\n",
       "      <td>0</td>\n",
       "      <td>1</td>\n",
       "    </tr>\n",
       "    <tr>\n",
       "      <th>...</th>\n",
       "      <td>...</td>\n",
       "      <td>...</td>\n",
       "      <td>...</td>\n",
       "      <td>...</td>\n",
       "      <td>...</td>\n",
       "    </tr>\n",
       "    <tr>\n",
       "      <th>1526654</th>\n",
       "      <td>2703450</td>\n",
       "      <td>2020-10-05</td>\n",
       "      <td>202010</td>\n",
       "      <td>91</td>\n",
       "      <td>0</td>\n",
       "    </tr>\n",
       "    <tr>\n",
       "      <th>1526655</th>\n",
       "      <td>2703451</td>\n",
       "      <td>2020-10-05</td>\n",
       "      <td>202010</td>\n",
       "      <td>91</td>\n",
       "      <td>0</td>\n",
       "    </tr>\n",
       "    <tr>\n",
       "      <th>1526656</th>\n",
       "      <td>2703452</td>\n",
       "      <td>2020-10-05</td>\n",
       "      <td>202010</td>\n",
       "      <td>91</td>\n",
       "      <td>0</td>\n",
       "    </tr>\n",
       "    <tr>\n",
       "      <th>1526657</th>\n",
       "      <td>2703453</td>\n",
       "      <td>2020-10-05</td>\n",
       "      <td>202010</td>\n",
       "      <td>91</td>\n",
       "      <td>0</td>\n",
       "    </tr>\n",
       "    <tr>\n",
       "      <th>1526658</th>\n",
       "      <td>2703454</td>\n",
       "      <td>2020-10-05</td>\n",
       "      <td>202010</td>\n",
       "      <td>91</td>\n",
       "      <td>0</td>\n",
       "    </tr>\n",
       "  </tbody>\n",
       "</table>\n",
       "<p>1526659 rows × 5 columns</p>\n",
       "</div>"
      ],
      "text/plain": [
       "         case_id date_decision   MONTH  WEEK_NUM  target\n",
       "0              0    2019-01-03  201901         0       0\n",
       "1              1    2019-01-03  201901         0       0\n",
       "2              2    2019-01-04  201901         0       0\n",
       "3              3    2019-01-03  201901         0       0\n",
       "4              4    2019-01-04  201901         0       1\n",
       "...          ...           ...     ...       ...     ...\n",
       "1526654  2703450    2020-10-05  202010        91       0\n",
       "1526655  2703451    2020-10-05  202010        91       0\n",
       "1526656  2703452    2020-10-05  202010        91       0\n",
       "1526657  2703453    2020-10-05  202010        91       0\n",
       "1526658  2703454    2020-10-05  202010        91       0\n",
       "\n",
       "[1526659 rows x 5 columns]"
      ]
     },
     "execution_count": 5,
     "metadata": {},
     "output_type": "execute_result"
    }
   ],
   "source": [
    "df_parqueet = pd.read_parquet(\"/kaggle/input/home-credit-credit-risk-model-stability/parquet_files/train/train_base.parquet\")\n",
    "df_parqueet"
   ]
  },
  {
   "cell_type": "markdown",
   "id": "b0d39ef7",
   "metadata": {
    "papermill": {
     "duration": 0.006645,
     "end_time": "2024-04-17T00:44:04.887828",
     "exception": false,
     "start_time": "2024-04-17T00:44:04.881183",
     "status": "completed"
    },
    "tags": []
   },
   "source": [
    "**Basic Sanity check to make sure that parqueet and csv file contains the same data.**"
   ]
  },
  {
   "cell_type": "markdown",
   "id": "4f2844aa",
   "metadata": {
    "papermill": {
     "duration": 0.006236,
     "end_time": "2024-04-17T00:44:04.900698",
     "exception": false,
     "start_time": "2024-04-17T00:44:04.894462",
     "status": "completed"
    },
    "tags": []
   },
   "source": [
    "## Then i'll start with Home Credit Risk 2024 Starter\n",
    "References : \n",
    "https://www.kaggle.com/code/jetakow/home-credit-2024-starter-notebook"
   ]
  },
  {
   "cell_type": "code",
   "execution_count": 6,
   "id": "4d8c0899",
   "metadata": {
    "execution": {
     "iopub.execute_input": "2024-04-17T00:44:04.916147Z",
     "iopub.status.busy": "2024-04-17T00:44:04.915696Z",
     "iopub.status.idle": "2024-04-17T00:44:04.927330Z",
     "shell.execute_reply": "2024-04-17T00:44:04.926115Z"
    },
    "papermill": {
     "duration": 0.022428,
     "end_time": "2024-04-17T00:44:04.929906",
     "exception": false,
     "start_time": "2024-04-17T00:44:04.907478",
     "status": "completed"
    },
    "tags": []
   },
   "outputs": [],
   "source": [
    "def set_table_dtypes(df: pl.DataFrame) -> pl.DataFrame:\n",
    "    # implement here all desired dtypes for tables\n",
    "    # the following is just an example\n",
    "    for col in df.columns:\n",
    "        # last letter of column name will help you determine the type\n",
    "        if col[-1] in (\"P\", \"A\"):\n",
    "            df = df.with_columns(pl.col(col).cast(pl.Float64).alias(col))\n",
    "\n",
    "    return df\n",
    "\n",
    "def convert_strings(df: pd.DataFrame) -> pd.DataFrame:\n",
    "    for col in df.columns:  \n",
    "        if df[col].dtype.name in ['object', 'string']:\n",
    "            df[col] = df[col].astype(\"string\").astype('category')\n",
    "            current_categories = df[col].cat.categories\n",
    "            new_categories = current_categories.to_list() + [\"Unknown\"]\n",
    "            new_dtype = pd.CategoricalDtype(categories=new_categories, ordered=True)\n",
    "            df[col] = df[col].astype(new_dtype)\n",
    "    return df"
   ]
  },
  {
   "cell_type": "code",
   "execution_count": 7,
   "id": "d6067456",
   "metadata": {
    "execution": {
     "iopub.execute_input": "2024-04-17T00:44:04.946348Z",
     "iopub.status.busy": "2024-04-17T00:44:04.945078Z",
     "iopub.status.idle": "2024-04-17T00:44:04.953484Z",
     "shell.execute_reply": "2024-04-17T00:44:04.952252Z"
    },
    "papermill": {
     "duration": 0.019232,
     "end_time": "2024-04-17T00:44:04.955961",
     "exception": false,
     "start_time": "2024-04-17T00:44:04.936729",
     "status": "completed"
    },
    "tags": []
   },
   "outputs": [
    {
     "data": {
      "text/plain": [
       "Index(['case_id', 'date_decision', 'MONTH', 'WEEK_NUM', 'target'], dtype='object')"
      ]
     },
     "execution_count": 7,
     "metadata": {},
     "output_type": "execute_result"
    }
   ],
   "source": [
    "df.columns"
   ]
  },
  {
   "cell_type": "code",
   "execution_count": 8,
   "id": "91bc09e7",
   "metadata": {
    "execution": {
     "iopub.execute_input": "2024-04-17T00:44:04.972363Z",
     "iopub.status.busy": "2024-04-17T00:44:04.971529Z",
     "iopub.status.idle": "2024-04-17T00:44:06.308373Z",
     "shell.execute_reply": "2024-04-17T00:44:06.306853Z"
    },
    "papermill": {
     "duration": 1.348429,
     "end_time": "2024-04-17T00:44:06.311330",
     "exception": false,
     "start_time": "2024-04-17T00:44:04.962901",
     "status": "completed"
    },
    "tags": []
   },
   "outputs": [],
   "source": [
    "test_df = pd.read_csv(\"/kaggle/input/home-credit-credit-risk-model-stability/csv_files/train/train_credit_bureau_b_2.csv\")"
   ]
  },
  {
   "cell_type": "code",
   "execution_count": 9,
   "id": "4b148aba",
   "metadata": {
    "execution": {
     "iopub.execute_input": "2024-04-17T00:44:06.328865Z",
     "iopub.status.busy": "2024-04-17T00:44:06.328283Z",
     "iopub.status.idle": "2024-04-17T00:44:06.347052Z",
     "shell.execute_reply": "2024-04-17T00:44:06.345656Z"
    },
    "papermill": {
     "duration": 0.030298,
     "end_time": "2024-04-17T00:44:06.349929",
     "exception": false,
     "start_time": "2024-04-17T00:44:06.319631",
     "status": "completed"
    },
    "tags": []
   },
   "outputs": [
    {
     "data": {
      "text/html": [
       "<div>\n",
       "<style scoped>\n",
       "    .dataframe tbody tr th:only-of-type {\n",
       "        vertical-align: middle;\n",
       "    }\n",
       "\n",
       "    .dataframe tbody tr th {\n",
       "        vertical-align: top;\n",
       "    }\n",
       "\n",
       "    .dataframe thead th {\n",
       "        text-align: right;\n",
       "    }\n",
       "</style>\n",
       "<table border=\"1\" class=\"dataframe\">\n",
       "  <thead>\n",
       "    <tr style=\"text-align: right;\">\n",
       "      <th></th>\n",
       "      <th>case_id</th>\n",
       "      <th>num_group1</th>\n",
       "      <th>num_group2</th>\n",
       "      <th>pmts_date_1107D</th>\n",
       "      <th>pmts_dpdvalue_108P</th>\n",
       "      <th>pmts_pmtsoverdue_635A</th>\n",
       "    </tr>\n",
       "  </thead>\n",
       "  <tbody>\n",
       "    <tr>\n",
       "      <th>0</th>\n",
       "      <td>467</td>\n",
       "      <td>0</td>\n",
       "      <td>0</td>\n",
       "      <td>2018-11-15</td>\n",
       "      <td>NaN</td>\n",
       "      <td>NaN</td>\n",
       "    </tr>\n",
       "    <tr>\n",
       "      <th>1</th>\n",
       "      <td>467</td>\n",
       "      <td>0</td>\n",
       "      <td>1</td>\n",
       "      <td>2018-12-15</td>\n",
       "      <td>NaN</td>\n",
       "      <td>NaN</td>\n",
       "    </tr>\n",
       "    <tr>\n",
       "      <th>2</th>\n",
       "      <td>467</td>\n",
       "      <td>1</td>\n",
       "      <td>0</td>\n",
       "      <td>2018-12-15</td>\n",
       "      <td>NaN</td>\n",
       "      <td>NaN</td>\n",
       "    </tr>\n",
       "    <tr>\n",
       "      <th>3</th>\n",
       "      <td>467</td>\n",
       "      <td>2</td>\n",
       "      <td>0</td>\n",
       "      <td>2016-10-15</td>\n",
       "      <td>0.0</td>\n",
       "      <td>0.0</td>\n",
       "    </tr>\n",
       "    <tr>\n",
       "      <th>4</th>\n",
       "      <td>467</td>\n",
       "      <td>2</td>\n",
       "      <td>1</td>\n",
       "      <td>2016-11-15</td>\n",
       "      <td>0.0</td>\n",
       "      <td>0.0</td>\n",
       "    </tr>\n",
       "  </tbody>\n",
       "</table>\n",
       "</div>"
      ],
      "text/plain": [
       "   case_id  num_group1  num_group2 pmts_date_1107D  pmts_dpdvalue_108P  \\\n",
       "0      467           0           0      2018-11-15                 NaN   \n",
       "1      467           0           1      2018-12-15                 NaN   \n",
       "2      467           1           0      2018-12-15                 NaN   \n",
       "3      467           2           0      2016-10-15                 0.0   \n",
       "4      467           2           1      2016-11-15                 0.0   \n",
       "\n",
       "   pmts_pmtsoverdue_635A  \n",
       "0                    NaN  \n",
       "1                    NaN  \n",
       "2                    NaN  \n",
       "3                    0.0  \n",
       "4                    0.0  "
      ]
     },
     "execution_count": 9,
     "metadata": {},
     "output_type": "execute_result"
    }
   ],
   "source": [
    "test_df.head()"
   ]
  },
  {
   "cell_type": "code",
   "execution_count": 10,
   "id": "d20d9dcd",
   "metadata": {
    "execution": {
     "iopub.execute_input": "2024-04-17T00:44:06.366743Z",
     "iopub.status.busy": "2024-04-17T00:44:06.366281Z",
     "iopub.status.idle": "2024-04-17T00:44:06.863013Z",
     "shell.execute_reply": "2024-04-17T00:44:06.861954Z"
    },
    "papermill": {
     "duration": 0.50855,
     "end_time": "2024-04-17T00:44:06.865801",
     "exception": false,
     "start_time": "2024-04-17T00:44:06.357251",
     "status": "completed"
    },
    "tags": []
   },
   "outputs": [],
   "source": [
    "dataPath = \"/kaggle/input/home-credit-credit-risk-model-stability/\"\n",
    "train_credit_bureau_b_2 = pl.read_csv(dataPath + \"csv_files/train/train_credit_bureau_b_2.csv\").pipe(set_table_dtypes) "
   ]
  },
  {
   "cell_type": "code",
   "execution_count": 11,
   "id": "2bd26660",
   "metadata": {
    "execution": {
     "iopub.execute_input": "2024-04-17T00:44:06.882537Z",
     "iopub.status.busy": "2024-04-17T00:44:06.881466Z",
     "iopub.status.idle": "2024-04-17T00:44:06.902756Z",
     "shell.execute_reply": "2024-04-17T00:44:06.901411Z"
    },
    "papermill": {
     "duration": 0.032252,
     "end_time": "2024-04-17T00:44:06.905268",
     "exception": false,
     "start_time": "2024-04-17T00:44:06.873016",
     "status": "completed"
    },
    "tags": []
   },
   "outputs": [
    {
     "data": {
      "text/html": [
       "<div><style>\n",
       ".dataframe > thead > tr,\n",
       ".dataframe > tbody > tr {\n",
       "  text-align: right;\n",
       "  white-space: pre-wrap;\n",
       "}\n",
       "</style>\n",
       "<small>shape: (5, 6)</small><table border=\"1\" class=\"dataframe\"><thead><tr><th>case_id</th><th>num_group1</th><th>num_group2</th><th>pmts_date_1107D</th><th>pmts_dpdvalue_108P</th><th>pmts_pmtsoverdue_635A</th></tr><tr><td>i64</td><td>i64</td><td>i64</td><td>str</td><td>f64</td><td>f64</td></tr></thead><tbody><tr><td>467</td><td>0</td><td>0</td><td>&quot;2018-11-15&quot;</td><td>null</td><td>null</td></tr><tr><td>467</td><td>0</td><td>1</td><td>&quot;2018-12-15&quot;</td><td>null</td><td>null</td></tr><tr><td>467</td><td>1</td><td>0</td><td>&quot;2018-12-15&quot;</td><td>null</td><td>null</td></tr><tr><td>467</td><td>2</td><td>0</td><td>&quot;2016-10-15&quot;</td><td>0.0</td><td>0.0</td></tr><tr><td>467</td><td>2</td><td>1</td><td>&quot;2016-11-15&quot;</td><td>0.0</td><td>0.0</td></tr></tbody></table></div>"
      ],
      "text/plain": [
       "shape: (5, 6)\n",
       "┌─────────┬────────────┬────────────┬─────────────────┬────────────────────┬───────────────────────┐\n",
       "│ case_id ┆ num_group1 ┆ num_group2 ┆ pmts_date_1107D ┆ pmts_dpdvalue_108P ┆ pmts_pmtsoverdue_635A │\n",
       "│ ---     ┆ ---        ┆ ---        ┆ ---             ┆ ---                ┆ ---                   │\n",
       "│ i64     ┆ i64        ┆ i64        ┆ str             ┆ f64                ┆ f64                   │\n",
       "╞═════════╪════════════╪════════════╪═════════════════╪════════════════════╪═══════════════════════╡\n",
       "│ 467     ┆ 0          ┆ 0          ┆ 2018-11-15      ┆ null               ┆ null                  │\n",
       "│ 467     ┆ 0          ┆ 1          ┆ 2018-12-15      ┆ null               ┆ null                  │\n",
       "│ 467     ┆ 1          ┆ 0          ┆ 2018-12-15      ┆ null               ┆ null                  │\n",
       "│ 467     ┆ 2          ┆ 0          ┆ 2016-10-15      ┆ 0.0                ┆ 0.0                   │\n",
       "│ 467     ┆ 2          ┆ 1          ┆ 2016-11-15      ┆ 0.0                ┆ 0.0                   │\n",
       "└─────────┴────────────┴────────────┴─────────────────┴────────────────────┴───────────────────────┘"
      ]
     },
     "execution_count": 11,
     "metadata": {},
     "output_type": "execute_result"
    }
   ],
   "source": [
    "train_credit_bureau_b_2.head()"
   ]
  },
  {
   "cell_type": "code",
   "execution_count": 12,
   "id": "c99ff1c2",
   "metadata": {
    "execution": {
     "iopub.execute_input": "2024-04-17T00:44:06.922630Z",
     "iopub.status.busy": "2024-04-17T00:44:06.921763Z",
     "iopub.status.idle": "2024-04-17T00:44:06.929615Z",
     "shell.execute_reply": "2024-04-17T00:44:06.928504Z"
    },
    "papermill": {
     "duration": 0.019109,
     "end_time": "2024-04-17T00:44:06.931879",
     "exception": false,
     "start_time": "2024-04-17T00:44:06.912770",
     "status": "completed"
    },
    "tags": []
   },
   "outputs": [
    {
     "name": "stdout",
     "output_type": "stream",
     "text": [
      "Value of past due payment for active contract (num_group1 - existing contract, num_group2 - payment).\n"
     ]
    }
   ],
   "source": [
    "print(lookup_table[lookup_table['Variable'] == \"pmts_dpdvalue_108P\"][\"Description\"].values[0])"
   ]
  },
  {
   "cell_type": "code",
   "execution_count": null,
   "id": "fb18fd1b",
   "metadata": {
    "papermill": {
     "duration": 0.007193,
     "end_time": "2024-04-17T00:44:06.946541",
     "exception": false,
     "start_time": "2024-04-17T00:44:06.939348",
     "status": "completed"
    },
    "tags": []
   },
   "outputs": [],
   "source": []
  }
 ],
 "metadata": {
  "kaggle": {
   "accelerator": "none",
   "dataSources": [
    {
     "databundleVersionId": 7602123,
     "sourceId": 50160,
     "sourceType": "competition"
    }
   ],
   "dockerImageVersionId": 30635,
   "isGpuEnabled": false,
   "isInternetEnabled": true,
   "language": "python",
   "sourceType": "notebook"
  },
  "kernelspec": {
   "display_name": "Python 3",
   "language": "python",
   "name": "python3"
  },
  "language_info": {
   "codemirror_mode": {
    "name": "ipython",
    "version": 3
   },
   "file_extension": ".py",
   "mimetype": "text/x-python",
   "name": "python",
   "nbconvert_exporter": "python",
   "pygments_lexer": "ipython3",
   "version": "3.10.12"
  },
  "papermill": {
   "default_parameters": {},
   "duration": 12.266497,
   "end_time": "2024-04-17T00:44:07.675191",
   "environment_variables": {},
   "exception": null,
   "input_path": "__notebook__.ipynb",
   "output_path": "__notebook__.ipynb",
   "parameters": {},
   "start_time": "2024-04-17T00:43:55.408694",
   "version": "2.4.0"
  }
 },
 "nbformat": 4,
 "nbformat_minor": 5
}
